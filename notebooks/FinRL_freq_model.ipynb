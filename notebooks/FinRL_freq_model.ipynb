{
 "cells": [
  {
   "cell_type": "code",
   "execution_count": 1,
   "metadata": {
    "colab": {
     "base_uri": "https://localhost:8080/"
    },
    "id": "tPsJhsL1RFWi",
    "outputId": "386a5de0-90a2-436f-d123-73704b01ea36"
   },
   "outputs": [
    {
     "name": "stdout",
     "output_type": "stream",
     "text": [
      "fatal: destination path 'FinRL-Library' already exists and is not an empty directory.\n"
     ]
    }
   ],
   "source": [
    "!git clone https://github.com/AI4Finance-LLC/FinRL-Library.git"
   ]
  },
  {
   "cell_type": "code",
   "execution_count": 2,
   "metadata": {
    "colab": {
     "base_uri": "https://localhost:8080/",
     "height": 1000
    },
    "id": "0PyGiqZ5Ph-A",
    "outputId": "9b32e865-0f71-4337-fb47-e86a9505fdf9"
   },
   "outputs": [
    {
     "name": "stdout",
     "output_type": "stream",
     "text": [
      "/home/notebooks/FinRL-Library\n",
      "Requirement already satisfied: numpy in /opt/conda/lib/python3.6/site-packages (from -r requirements.txt (line 2)) (1.19.2)\n",
      "Requirement already satisfied: pandas>=1.1.5 in /opt/conda/lib/python3.6/site-packages (from -r requirements.txt (line 3)) (1.1.5)\n",
      "Requirement already satisfied: stockstats in /opt/conda/lib/python3.6/site-packages (from -r requirements.txt (line 4)) (0.3.2)\n",
      "Requirement already satisfied: yfinance in /opt/conda/lib/python3.6/site-packages (from -r requirements.txt (line 5)) (0.1.55)\n",
      "Requirement already satisfied: pyfolio in /opt/conda/lib/python3.6/site-packages (from -r requirements.txt (line 6)) (0.9.2+75.g4b901f6)\n",
      "Requirement already satisfied: matplotlib in /opt/conda/lib/python3.6/site-packages (from -r requirements.txt (line 10)) (3.3.3)\n",
      "Requirement already satisfied: scikit-learn>=0.21.0 in /opt/conda/lib/python3.6/site-packages (from -r requirements.txt (line 13)) (0.23.2)\n",
      "Requirement already satisfied: gym>=0.17 in /opt/conda/lib/python3.6/site-packages (from -r requirements.txt (line 14)) (0.18.0)\n",
      "Requirement already satisfied: stable-baselines3[extra] in /opt/conda/lib/python3.6/site-packages (from -r requirements.txt (line 15)) (0.11.0a4)\n",
      "Requirement already satisfied: pytest in /opt/conda/lib/python3.6/site-packages (from -r requirements.txt (line 18)) (6.2.1)\n",
      "Requirement already satisfied: setuptools>=41.4.0 in /opt/conda/lib/python3.6/site-packages (from -r requirements.txt (line 21)) (51.0.0.post20201207)\n",
      "Requirement already satisfied: wheel>=0.33.6 in /opt/conda/lib/python3.6/site-packages (from -r requirements.txt (line 22)) (0.35.1)\n",
      "Requirement already satisfied: arrow in /opt/conda/lib/python3.6/site-packages (from -r requirements.txt (line 25)) (0.17.0)\n",
      "Requirement already satisfied: python-rapidjson in /opt/conda/lib/python3.6/site-packages (from -r requirements.txt (line 26)) (1.0)\n",
      "Requirement already satisfied: questionary in /opt/conda/lib/python3.6/site-packages (from -r requirements.txt (line 27)) (1.9.0)\n",
      "Requirement already satisfied: sqlalchemy in /opt/conda/lib/python3.6/site-packages (from -r requirements.txt (line 28)) (1.3.22)\n",
      "Requirement already satisfied: tabulate in /opt/conda/lib/python3.6/site-packages (from -r requirements.txt (line 29)) (0.8.7)\n",
      "Requirement already satisfied: ccxt in /opt/conda/lib/python3.6/site-packages (from -r requirements.txt (line 32)) (1.41.92)\n",
      "Requirement already satisfied: colorama in /opt/conda/lib/python3.6/site-packages (from -r requirements.txt (line 35)) (0.4.4)\n",
      "Requirement already satisfied: tensorflow in /opt/conda/lib/python3.6/site-packages (from -r requirements.txt (line 38)) (2.4.1)\n",
      "Requirement already satisfied: nest-asyncio in /opt/conda/lib/python3.6/site-packages (from -r requirements.txt (line 41)) (1.5.1)\n",
      "Requirement already satisfied: cloudpickle<1.7.0,>=1.2.0 in /opt/conda/lib/python3.6/site-packages (from gym>=0.17->-r requirements.txt (line 14)) (1.6.0)\n",
      "Requirement already satisfied: scipy in /opt/conda/lib/python3.6/site-packages (from gym>=0.17->-r requirements.txt (line 14)) (1.5.2)\n",
      "Requirement already satisfied: Pillow<=7.2.0 in /opt/conda/lib/python3.6/site-packages (from gym>=0.17->-r requirements.txt (line 14)) (7.2.0)\n",
      "Requirement already satisfied: pyglet<=1.5.0,>=1.4.0 in /opt/conda/lib/python3.6/site-packages (from gym>=0.17->-r requirements.txt (line 14)) (1.5.0)\n",
      "Requirement already satisfied: pytz>=2017.2 in /opt/conda/lib/python3.6/site-packages (from pandas>=1.1.5->-r requirements.txt (line 3)) (2020.4)\n",
      "Requirement already satisfied: python-dateutil>=2.7.3 in /opt/conda/lib/python3.6/site-packages (from pandas>=1.1.5->-r requirements.txt (line 3)) (2.8.1)\n",
      "Requirement already satisfied: threadpoolctl>=2.0.0 in /opt/conda/lib/python3.6/site-packages (from scikit-learn>=0.21.0->-r requirements.txt (line 13)) (2.1.0)\n",
      "Requirement already satisfied: joblib>=0.11 in /opt/conda/lib/python3.6/site-packages (from scikit-learn>=0.21.0->-r requirements.txt (line 13)) (1.0.0)\n",
      "Requirement already satisfied: future in /opt/conda/lib/python3.6/site-packages (from pyglet<=1.5.0,>=1.4.0->gym>=0.17->-r requirements.txt (line 14)) (0.18.2)\n",
      "Requirement already satisfied: six>=1.5 in /opt/conda/lib/python3.6/site-packages (from python-dateutil>=2.7.3->pandas>=1.1.5->-r requirements.txt (line 3)) (1.15.0)\n",
      "Requirement already satisfied: aiohttp<3.8,>=3.7.2 in /opt/conda/lib/python3.6/site-packages (from ccxt->-r requirements.txt (line 32)) (3.7.3)\n",
      "Requirement already satisfied: yarl==1.1.0 in /opt/conda/lib/python3.6/site-packages (from ccxt->-r requirements.txt (line 32)) (1.1.0)\n",
      "Requirement already satisfied: certifi>=2018.1.18 in /opt/conda/lib/python3.6/site-packages (from ccxt->-r requirements.txt (line 32)) (2020.12.5)\n",
      "Requirement already satisfied: aiodns<2.1,>=1.1.1 in /opt/conda/lib/python3.6/site-packages (from ccxt->-r requirements.txt (line 32)) (2.0.0)\n",
      "Requirement already satisfied: cryptography>=2.6.1 in /opt/conda/lib/python3.6/site-packages (from ccxt->-r requirements.txt (line 32)) (3.3.1)\n",
      "Requirement already satisfied: requests>=2.18.4 in /opt/conda/lib/python3.6/site-packages (from ccxt->-r requirements.txt (line 32)) (2.24.0)\n",
      "Requirement already satisfied: idna>=2.0 in /opt/conda/lib/python3.6/site-packages (from yarl==1.1.0->ccxt->-r requirements.txt (line 32)) (2.10)\n",
      "Requirement already satisfied: multidict>=4.0 in /opt/conda/lib/python3.6/site-packages (from yarl==1.1.0->ccxt->-r requirements.txt (line 32)) (5.1.0)\n",
      "Requirement already satisfied: pycares>=3.0.0 in /opt/conda/lib/python3.6/site-packages (from aiodns<2.1,>=1.1.1->ccxt->-r requirements.txt (line 32)) (3.1.1)\n",
      "Requirement already satisfied: typing in /opt/conda/lib/python3.6/site-packages (from aiodns<2.1,>=1.1.1->ccxt->-r requirements.txt (line 32)) (3.7.4.3)\n",
      "Requirement already satisfied: idna-ssl>=1.0 in /opt/conda/lib/python3.6/site-packages (from aiohttp<3.8,>=3.7.2->ccxt->-r requirements.txt (line 32)) (1.1.0)\n",
      "Requirement already satisfied: typing-extensions>=3.6.5 in /opt/conda/lib/python3.6/site-packages (from aiohttp<3.8,>=3.7.2->ccxt->-r requirements.txt (line 32)) (3.7.4.3)\n",
      "Requirement already satisfied: attrs>=17.3.0 in /opt/conda/lib/python3.6/site-packages (from aiohttp<3.8,>=3.7.2->ccxt->-r requirements.txt (line 32)) (20.3.0)\n",
      "Requirement already satisfied: async-timeout<4.0,>=3.0 in /opt/conda/lib/python3.6/site-packages (from aiohttp<3.8,>=3.7.2->ccxt->-r requirements.txt (line 32)) (3.0.1)\n",
      "Requirement already satisfied: chardet<4.0,>=2.0 in /opt/conda/lib/python3.6/site-packages (from aiohttp<3.8,>=3.7.2->ccxt->-r requirements.txt (line 32)) (3.0.4)\n",
      "Requirement already satisfied: cffi>=1.12 in /opt/conda/lib/python3.6/site-packages (from cryptography>=2.6.1->ccxt->-r requirements.txt (line 32)) (1.14.4)\n",
      "Requirement already satisfied: pycparser in /opt/conda/lib/python3.6/site-packages (from cffi>=1.12->cryptography>=2.6.1->ccxt->-r requirements.txt (line 32)) (2.20)\n",
      "Requirement already satisfied: urllib3!=1.25.0,!=1.25.1,<1.26,>=1.21.1 in /opt/conda/lib/python3.6/site-packages (from requests>=2.18.4->ccxt->-r requirements.txt (line 32)) (1.25.11)\n",
      "Requirement already satisfied: kiwisolver>=1.0.1 in /opt/conda/lib/python3.6/site-packages (from matplotlib->-r requirements.txt (line 10)) (1.3.1)\n",
      "Requirement already satisfied: pyparsing!=2.0.4,!=2.1.2,!=2.1.6,>=2.0.3 in /opt/conda/lib/python3.6/site-packages (from matplotlib->-r requirements.txt (line 10)) (2.4.7)\n",
      "Requirement already satisfied: cycler>=0.10 in /opt/conda/lib/python3.6/site-packages (from matplotlib->-r requirements.txt (line 10)) (0.10.0)\n",
      "Requirement already satisfied: ipython>=3.2.3 in /opt/conda/lib/python3.6/site-packages (from pyfolio->-r requirements.txt (line 6)) (7.16.1)\n",
      "Requirement already satisfied: seaborn>=0.7.1 in /opt/conda/lib/python3.6/site-packages (from pyfolio->-r requirements.txt (line 6)) (0.11.1)\n",
      "Requirement already satisfied: empyrical>=0.5.0 in /opt/conda/lib/python3.6/site-packages (from pyfolio->-r requirements.txt (line 6)) (0.5.5)\n",
      "Requirement already satisfied: pandas-datareader>=0.2 in /opt/conda/lib/python3.6/site-packages (from empyrical>=0.5.0->pyfolio->-r requirements.txt (line 6)) (0.9.0)\n",
      "Requirement already satisfied: backcall in /opt/conda/lib/python3.6/site-packages (from ipython>=3.2.3->pyfolio->-r requirements.txt (line 6)) (0.2.0)\n",
      "Requirement already satisfied: pickleshare in /opt/conda/lib/python3.6/site-packages (from ipython>=3.2.3->pyfolio->-r requirements.txt (line 6)) (0.7.5)\n",
      "Requirement already satisfied: prompt-toolkit!=3.0.0,!=3.0.1,<3.1.0,>=2.0.0 in /opt/conda/lib/python3.6/site-packages (from ipython>=3.2.3->pyfolio->-r requirements.txt (line 6)) (3.0.8)\n",
      "Requirement already satisfied: traitlets>=4.2 in /opt/conda/lib/python3.6/site-packages (from ipython>=3.2.3->pyfolio->-r requirements.txt (line 6)) (4.3.3)\n",
      "Requirement already satisfied: jedi>=0.10 in /opt/conda/lib/python3.6/site-packages (from ipython>=3.2.3->pyfolio->-r requirements.txt (line 6)) (0.17.0)\n",
      "Requirement already satisfied: pygments in /opt/conda/lib/python3.6/site-packages (from ipython>=3.2.3->pyfolio->-r requirements.txt (line 6)) (2.7.3)\n",
      "Requirement already satisfied: decorator in /opt/conda/lib/python3.6/site-packages (from ipython>=3.2.3->pyfolio->-r requirements.txt (line 6)) (4.4.2)\n",
      "Requirement already satisfied: pexpect in /opt/conda/lib/python3.6/site-packages (from ipython>=3.2.3->pyfolio->-r requirements.txt (line 6)) (4.8.0)\n",
      "Requirement already satisfied: parso>=0.7.0 in /opt/conda/lib/python3.6/site-packages (from jedi>=0.10->ipython>=3.2.3->pyfolio->-r requirements.txt (line 6)) (0.8.1)\n",
      "Requirement already satisfied: lxml in /opt/conda/lib/python3.6/site-packages (from pandas-datareader>=0.2->empyrical>=0.5.0->pyfolio->-r requirements.txt (line 6)) (4.6.2)\n",
      "Requirement already satisfied: wcwidth in /opt/conda/lib/python3.6/site-packages (from prompt-toolkit!=3.0.0,!=3.0.1,<3.1.0,>=2.0.0->ipython>=3.2.3->pyfolio->-r requirements.txt (line 6)) (0.2.5)\n",
      "Requirement already satisfied: ipython-genutils in /opt/conda/lib/python3.6/site-packages (from traitlets>=4.2->ipython>=3.2.3->pyfolio->-r requirements.txt (line 6)) (0.2.0)\n",
      "Requirement already satisfied: importlib-metadata>=0.12 in /opt/conda/lib/python3.6/site-packages (from pytest->-r requirements.txt (line 18)) (3.3.0)\n",
      "Requirement already satisfied: packaging in /opt/conda/lib/python3.6/site-packages (from pytest->-r requirements.txt (line 18)) (20.8)\n",
      "Requirement already satisfied: iniconfig in /opt/conda/lib/python3.6/site-packages (from pytest->-r requirements.txt (line 18)) (1.1.1)\n",
      "Requirement already satisfied: py>=1.8.2 in /opt/conda/lib/python3.6/site-packages (from pytest->-r requirements.txt (line 18)) (1.10.0)\n",
      "Requirement already satisfied: toml in /opt/conda/lib/python3.6/site-packages (from pytest->-r requirements.txt (line 18)) (0.10.2)\n",
      "Requirement already satisfied: pluggy<1.0.0a1,>=0.12 in /opt/conda/lib/python3.6/site-packages (from pytest->-r requirements.txt (line 18)) (0.13.1)\n",
      "Requirement already satisfied: zipp>=0.5 in /opt/conda/lib/python3.6/site-packages (from importlib-metadata>=0.12->pytest->-r requirements.txt (line 18)) (3.4.0)\n",
      "Requirement already satisfied: torch>=1.4.0 in /opt/conda/lib/python3.6/site-packages (from stable-baselines3[extra]->-r requirements.txt (line 15)) (1.7.1)\n",
      "Requirement already satisfied: opencv-python in /opt/conda/lib/python3.6/site-packages (from stable-baselines3[extra]->-r requirements.txt (line 15)) (4.4.0.46)\n",
      "Requirement already satisfied: tensorboard>=2.2.0 in /opt/conda/lib/python3.6/site-packages (from stable-baselines3[extra]->-r requirements.txt (line 15)) (2.4.0)\n",
      "Requirement already satisfied: psutil in /opt/conda/lib/python3.6/site-packages (from stable-baselines3[extra]->-r requirements.txt (line 15)) (5.8.0)\n",
      "Requirement already satisfied: atari-py~=0.2.0 in /opt/conda/lib/python3.6/site-packages (from stable-baselines3[extra]->-r requirements.txt (line 15)) (0.2.6)\n",
      "Requirement already satisfied: protobuf>=3.6.0 in /opt/conda/lib/python3.6/site-packages (from tensorboard>=2.2.0->stable-baselines3[extra]->-r requirements.txt (line 15)) (3.14.0)\n",
      "Requirement already satisfied: markdown>=2.6.8 in /opt/conda/lib/python3.6/site-packages (from tensorboard>=2.2.0->stable-baselines3[extra]->-r requirements.txt (line 15)) (3.3.3)\n",
      "Requirement already satisfied: google-auth-oauthlib<0.5,>=0.4.1 in /opt/conda/lib/python3.6/site-packages (from tensorboard>=2.2.0->stable-baselines3[extra]->-r requirements.txt (line 15)) (0.4.2)\n",
      "Requirement already satisfied: absl-py>=0.4 in /opt/conda/lib/python3.6/site-packages (from tensorboard>=2.2.0->stable-baselines3[extra]->-r requirements.txt (line 15)) (0.11.0)\n",
      "Requirement already satisfied: werkzeug>=0.11.15 in /opt/conda/lib/python3.6/site-packages (from tensorboard>=2.2.0->stable-baselines3[extra]->-r requirements.txt (line 15)) (1.0.1)\n",
      "Requirement already satisfied: google-auth<2,>=1.6.3 in /opt/conda/lib/python3.6/site-packages (from tensorboard>=2.2.0->stable-baselines3[extra]->-r requirements.txt (line 15)) (1.24.0)\n",
      "Requirement already satisfied: tensorboard-plugin-wit>=1.6.0 in /opt/conda/lib/python3.6/site-packages (from tensorboard>=2.2.0->stable-baselines3[extra]->-r requirements.txt (line 15)) (1.7.0)\n",
      "Requirement already satisfied: grpcio>=1.24.3 in /opt/conda/lib/python3.6/site-packages (from tensorboard>=2.2.0->stable-baselines3[extra]->-r requirements.txt (line 15)) (1.32.0)\n",
      "Requirement already satisfied: rsa<5,>=3.1.4 in /opt/conda/lib/python3.6/site-packages (from google-auth<2,>=1.6.3->tensorboard>=2.2.0->stable-baselines3[extra]->-r requirements.txt (line 15)) (4.6)\n",
      "Requirement already satisfied: pyasn1-modules>=0.2.1 in /opt/conda/lib/python3.6/site-packages (from google-auth<2,>=1.6.3->tensorboard>=2.2.0->stable-baselines3[extra]->-r requirements.txt (line 15)) (0.2.8)\n",
      "Requirement already satisfied: cachetools<5.0,>=2.0.0 in /opt/conda/lib/python3.6/site-packages (from google-auth<2,>=1.6.3->tensorboard>=2.2.0->stable-baselines3[extra]->-r requirements.txt (line 15)) (4.2.0)\n",
      "Requirement already satisfied: requests-oauthlib>=0.7.0 in /opt/conda/lib/python3.6/site-packages (from google-auth-oauthlib<0.5,>=0.4.1->tensorboard>=2.2.0->stable-baselines3[extra]->-r requirements.txt (line 15)) (1.3.0)\n",
      "Requirement already satisfied: pyasn1<0.5.0,>=0.4.6 in /opt/conda/lib/python3.6/site-packages (from pyasn1-modules>=0.2.1->google-auth<2,>=1.6.3->tensorboard>=2.2.0->stable-baselines3[extra]->-r requirements.txt (line 15)) (0.4.8)\n",
      "Requirement already satisfied: oauthlib>=3.0.0 in /opt/conda/lib/python3.6/site-packages (from requests-oauthlib>=0.7.0->google-auth-oauthlib<0.5,>=0.4.1->tensorboard>=2.2.0->stable-baselines3[extra]->-r requirements.txt (line 15)) (3.1.0)\n",
      "Requirement already satisfied: dataclasses in /opt/conda/lib/python3.6/site-packages (from torch>=1.4.0->stable-baselines3[extra]->-r requirements.txt (line 15)) (0.7)\n",
      "Requirement already satisfied: int-date>=0.1.7 in /opt/conda/lib/python3.6/site-packages (from stockstats->-r requirements.txt (line 4)) (0.1.8)\n",
      "Requirement already satisfied: flatbuffers~=1.12.0 in /opt/conda/lib/python3.6/site-packages (from tensorflow->-r requirements.txt (line 38)) (1.12)\n",
      "Requirement already satisfied: google-pasta~=0.2 in /opt/conda/lib/python3.6/site-packages (from tensorflow->-r requirements.txt (line 38)) (0.2.0)\n",
      "Requirement already satisfied: termcolor~=1.1.0 in /opt/conda/lib/python3.6/site-packages (from tensorflow->-r requirements.txt (line 38)) (1.1.0)\n",
      "Requirement already satisfied: h5py~=2.10.0 in /opt/conda/lib/python3.6/site-packages (from tensorflow->-r requirements.txt (line 38)) (2.10.0)\n",
      "Requirement already satisfied: wrapt~=1.12.1 in /opt/conda/lib/python3.6/site-packages (from tensorflow->-r requirements.txt (line 38)) (1.12.1)\n",
      "Requirement already satisfied: gast==0.3.3 in /opt/conda/lib/python3.6/site-packages (from tensorflow->-r requirements.txt (line 38)) (0.3.3)\n",
      "Requirement already satisfied: opt-einsum~=3.3.0 in /opt/conda/lib/python3.6/site-packages (from tensorflow->-r requirements.txt (line 38)) (3.3.0)\n",
      "Requirement already satisfied: astunparse~=1.6.3 in /opt/conda/lib/python3.6/site-packages (from tensorflow->-r requirements.txt (line 38)) (1.6.3)\n",
      "Requirement already satisfied: tensorflow-estimator<2.5.0,>=2.4.0 in /opt/conda/lib/python3.6/site-packages (from tensorflow->-r requirements.txt (line 38)) (2.4.0)\n",
      "Requirement already satisfied: keras-preprocessing~=1.1.2 in /opt/conda/lib/python3.6/site-packages (from tensorflow->-r requirements.txt (line 38)) (1.1.2)\n",
      "Requirement already satisfied: multitasking>=0.0.7 in /opt/conda/lib/python3.6/site-packages (from yfinance->-r requirements.txt (line 5)) (0.0.9)\n",
      "Requirement already satisfied: ptyprocess>=0.5 in /opt/conda/lib/python3.6/site-packages (from pexpect->ipython>=3.2.3->pyfolio->-r requirements.txt (line 6)) (0.6.0)\n",
      "Requirement already satisfied: nest-asyncio in /opt/conda/lib/python3.6/site-packages (1.5.1)\n"
     ]
    }
   ],
   "source": [
    "%cd FinRL-Library/\n",
    "!pip install -r requirements.txt\n",
    "!pip install nest-asyncio"
   ]
  },
  {
   "cell_type": "code",
   "execution_count": 3,
   "metadata": {
    "colab": {
     "base_uri": "https://localhost:8080/",
     "height": 641
    },
    "id": "YOi7SNtgRbRx",
    "outputId": "b868e1eb-49ce-4d13-e1f3-dcd1ee603e04"
   },
   "outputs": [
    {
     "name": "stdout",
     "output_type": "stream",
     "text": [
      "Requirement already satisfied: ipython in /opt/conda/lib/python3.6/site-packages (7.16.1)\n",
      "Requirement already satisfied: prompt-toolkit!=3.0.0,!=3.0.1,<3.1.0,>=2.0.0 in /opt/conda/lib/python3.6/site-packages (from ipython) (3.0.8)\n",
      "Requirement already satisfied: pexpect in /opt/conda/lib/python3.6/site-packages (from ipython) (4.8.0)\n",
      "Requirement already satisfied: decorator in /opt/conda/lib/python3.6/site-packages (from ipython) (4.4.2)\n",
      "Requirement already satisfied: jedi>=0.10 in /opt/conda/lib/python3.6/site-packages (from ipython) (0.17.0)\n",
      "Requirement already satisfied: pygments in /opt/conda/lib/python3.6/site-packages (from ipython) (2.7.3)\n",
      "Requirement already satisfied: traitlets>=4.2 in /opt/conda/lib/python3.6/site-packages (from ipython) (4.3.3)\n",
      "Requirement already satisfied: backcall in /opt/conda/lib/python3.6/site-packages (from ipython) (0.2.0)\n",
      "Requirement already satisfied: setuptools>=18.5 in /opt/conda/lib/python3.6/site-packages (from ipython) (51.0.0.post20201207)\n",
      "Requirement already satisfied: pickleshare in /opt/conda/lib/python3.6/site-packages (from ipython) (0.7.5)\n",
      "Requirement already satisfied: parso>=0.7.0 in /opt/conda/lib/python3.6/site-packages (from jedi>=0.10->ipython) (0.8.1)\n",
      "Requirement already satisfied: wcwidth in /opt/conda/lib/python3.6/site-packages (from prompt-toolkit!=3.0.0,!=3.0.1,<3.1.0,>=2.0.0->ipython) (0.2.5)\n",
      "Requirement already satisfied: six in /opt/conda/lib/python3.6/site-packages (from traitlets>=4.2->ipython) (1.15.0)\n",
      "Requirement already satisfied: ipython-genutils in /opt/conda/lib/python3.6/site-packages (from traitlets>=4.2->ipython) (0.2.0)\n",
      "Requirement already satisfied: ptyprocess>=0.5 in /opt/conda/lib/python3.6/site-packages (from pexpect->ipython) (0.6.0)\n"
     ]
    }
   ],
   "source": [
    "!pip install -U ipython\n",
    "# !pip install colorama"
   ]
  },
  {
   "cell_type": "code",
   "execution_count": 4,
   "metadata": {
    "colab": {
     "base_uri": "https://localhost:8080/"
    },
    "id": "fDVBL-cDVWEP",
    "outputId": "88c7f5f2-1609-46f8-d68c-7de7be75b494"
   },
   "outputs": [
    {
     "name": "stdout",
     "output_type": "stream",
     "text": [
      "[Errno 2] No such file or directory: 'FinRL-Library/'\n",
      "/home/notebooks/FinRL-Library\n"
     ]
    }
   ],
   "source": [
    "%cd FinRL-Library/"
   ]
  },
  {
   "cell_type": "code",
   "execution_count": 5,
   "metadata": {
    "id": "7gc1cGFZLfKG"
   },
   "outputs": [],
   "source": [
    "import nest_asyncio\n",
    "nest_asyncio.apply()"
   ]
  },
  {
   "cell_type": "code",
   "execution_count": 6,
   "metadata": {
    "colab": {
     "base_uri": "https://localhost:8080/"
    },
    "id": "KTJUn-J9Ps0W",
    "outputId": "2f31216b-907c-49c3-9990-88814be987ce"
   },
   "outputs": [
    {
     "name": "stderr",
     "output_type": "stream",
     "text": [
      "/opt/conda/lib/python3.6/site-packages/pyfolio/pos.py:27: UserWarning: Module \"zipline.assets\" not found; multipliers will not be applied to position notionals.\n",
      "  'Module \"zipline.assets\" not found; multipliers will not be applied'\n"
     ]
    }
   ],
   "source": [
    "import pandas as pd\n",
    "import numpy as np\n",
    "import matplotlib\n",
    "import matplotlib.pyplot as plt\n",
    "# matplotlib.use('Agg')\n",
    "import datetime\n",
    "\n",
    "%matplotlib inline\n",
    "from finrl.config import config\n",
    "from finrl.marketdata.yahoodownloader import YahooDownloader\n",
    "from finrl.preprocessing.preprocessors import FeatureEngineer\n",
    "from finrl.preprocessing.data import data_split\n",
    "from finrl.env.env_stocktrading import StockTradingEnv\n",
    "from finrl.model.models import DRLAgent\n",
    "from finrl.trade.backtest import backtest_stats, backtest_plot, get_daily_return, get_baseline\n",
    "\n",
    "from pprint import pprint\n",
    "\n",
    "import sys\n",
    "sys.path.append(\"../FinRL-Library\")\n",
    "\n",
    "import itertools"
   ]
  },
  {
   "cell_type": "code",
   "execution_count": 7,
   "metadata": {
    "id": "kWqK7-ryPwhQ"
   },
   "outputs": [],
   "source": [
    "import os\n",
    "if not os.path.exists(\"./\" + config.DATA_SAVE_DIR):\n",
    "    os.makedirs(\"./\" + config.DATA_SAVE_DIR)\n",
    "if not os.path.exists(\"./\" + config.TRAINED_MODEL_DIR):\n",
    "    os.makedirs(\"./\" + config.TRAINED_MODEL_DIR)\n",
    "if not os.path.exists(\"./\" + config.TENSORBOARD_LOG_DIR):\n",
    "    os.makedirs(\"./\" + config.TENSORBOARD_LOG_DIR)\n",
    "if not os.path.exists(\"./\" + config.RESULTS_DIR):\n",
    "    os.makedirs(\"./\" + config.RESULTS_DIR)"
   ]
  },
  {
   "cell_type": "code",
   "execution_count": 8,
   "metadata": {
    "id": "afDyaoplPzed"
   },
   "outputs": [],
   "source": [
    "from finrl.config.configuration import Configuration\n",
    "from finrl.config.directory_operations import create_userdata_dir\n",
    "from finrl.commands import start_download_cryptodata, start_download_stockdata"
   ]
  },
  {
   "cell_type": "code",
   "execution_count": 9,
   "metadata": {
    "id": "p6UBynHyQtvV"
   },
   "outputs": [],
   "source": [
    "#### CREATE USER DATA DIRECTORY IN DESIGNATED PATH, IF NO NAME INDICATED DEFAULT TO user_data\n",
    "####### create dir to false if only to check existence of directory\n",
    "create_userdata_dir(\"./user_data\",create_dir=True)\n",
    "\n",
    "\n",
    "# ###### Pull Configuration File (using finrl/config/configuration.py)\n",
    "config = Configuration.from_files([\"../config.json\"])"
   ]
  },
  {
   "cell_type": "code",
   "execution_count": 10,
   "metadata": {
    "colab": {
     "base_uri": "https://localhost:8080/"
    },
    "id": "jFrVhFlrbO-n",
    "outputId": "c2035991-c747-460b-f77e-9b2eeed3349d"
   },
   "outputs": [
    {
     "name": "stdout",
     "output_type": "stream",
     "text": [
      "\n",
      "Exchange Binance has 111 active markets with B, N, B as quote currencies:\n",
      "+-----------+------------+--------+---------+----------+-----------+\n",
      "|        Id |     Symbol |   Base |   Quote |   Active |   Is pair |\n",
      "|-----------+------------+--------+---------+----------+-----------|\n",
      "|   AAVEBNB |   AAVE/BNB |   AAVE |     BNB |     True |      True |\n",
      "|    ADABNB |    ADA/BNB |    ADA |     BNB |     True |      True |\n",
      "|   ALGOBNB |   ALGO/BNB |   ALGO |     BNB |     True |      True |\n",
      "|  ALPHABNB |  ALPHA/BNB |  ALPHA |     BNB |     True |      True |\n",
      "|   ANKRBNB |   ANKR/BNB |   ANKR |     BNB |     True |      True |\n",
      "|    ANTBNB |    ANT/BNB |    ANT |     BNB |     True |      True |\n",
      "|   ARPABNB |   ARPA/BNB |   ARPA |     BNB |     True |      True |\n",
      "|   ATOMBNB |   ATOM/BNB |   ATOM |     BNB |     True |      True |\n",
      "|    AVABNB |    AVA/BNB |    AVA |     BNB |     True |      True |\n",
      "|   AVAXBNB |   AVAX/BNB |   AVAX |     BNB |     True |      True |\n",
      "|    AXSBNB |    AXS/BNB |    AXS |     BNB |     True |      True |\n",
      "|   BAKEBNB |   BAKE/BNB |   BAKE |     BNB |     True |      True |\n",
      "|   BANDBNB |   BAND/BNB |   BAND |     BNB |     True |      True |\n",
      "|    BATBNB |    BAT/BNB |    BAT |     BNB |     True |      True |\n",
      "|    BCHBNB |    BCH/BNB |    BCH |     BNB |     True |      True |\n",
      "|    BELBNB |    BEL/BNB |    BEL |     BNB |     True |      True |\n",
      "|    BLZBNB |    BLZ/BNB |    BLZ |     BNB |     True |      True |\n",
      "|    BTTBNB |    BTT/BNB |    BTT |     BNB |     True |      True |\n",
      "| BURGERBNB | BURGER/BNB | BURGER |     BNB |     True |      True |\n",
      "|   CAKEBNB |   CAKE/BNB |   CAKE |     BNB |     True |      True |\n",
      "|   CELRBNB |   CELR/BNB |   CELR |     BNB |     True |      True |\n",
      "|    CHRBNB |    CHR/BNB |    CHR |     BNB |     True |      True |\n",
      "|    CHZBNB |    CHZ/BNB |    CHZ |     BNB |     True |      True |\n",
      "|  COCOSBNB |  COCOS/BNB |  COCOS |     BNB |     True |      True |\n",
      "|    COSBNB |    COS/BNB |    COS |     BNB |     True |      True |\n",
      "|   COTIBNB |   COTI/BNB |   COTI |     BNB |     True |      True |\n",
      "|  CREAMBNB |  CREAM/BNB |  CREAM |     BNB |     True |      True |\n",
      "|    CRVBNB |    CRV/BNB |    CRV |     BNB |     True |      True |\n",
      "|    CTKBNB |    CTK/BNB |    CTK |     BNB |     True |      True |\n",
      "|   CTSIBNB |   CTSI/BNB |   CTSI |     BNB |     True |      True |\n",
      "|   DASHBNB |   DASH/BNB |   DASH |     BNB |     True |      True |\n",
      "|    DGBBNB |    DGB/BNB |    DGB |     BNB |     True |      True |\n",
      "|    DIABNB |    DIA/BNB |    DIA |     BNB |     True |      True |\n",
      "|    DOTBNB |    DOT/BNB |    DOT |     BNB |     True |      True |\n",
      "|   EGLDBNB |   EGLD/BNB |   EGLD |     BNB |     True |      True |\n",
      "|    ENJBNB |    ENJ/BNB |    ENJ |     BNB |     True |      True |\n",
      "|    EOSBNB |    EOS/BNB |    EOS |     BNB |     True |      True |\n",
      "|    ETCBNB |    ETC/BNB |    ETC |     BNB |     True |      True |\n",
      "|    FETBNB |    FET/BNB |    FET |     BNB |     True |      True |\n",
      "|    FILBNB |    FIL/BNB |    FIL |     BNB |     True |      True |\n",
      "|    FIOBNB |    FIO/BNB |    FIO |     BNB |     True |      True |\n",
      "|    FTMBNB |    FTM/BNB |    FTM |     BNB |     True |      True |\n",
      "|    FTTBNB |    FTT/BNB |    FTT |     BNB |     True |      True |\n",
      "|   HARDBNB |   HARD/BNB |   HARD |     BNB |     True |      True |\n",
      "|   HBARBNB |   HBAR/BNB |   HBAR |     BNB |     True |      True |\n",
      "|    HOTBNB |    HOT/BNB |    HOT |     BNB |     True |      True |\n",
      "|    ICXBNB |    ICX/BNB |    ICX |     BNB |     True |      True |\n",
      "|    INJBNB |    INJ/BNB |    INJ |     BNB |     True |      True |\n",
      "|   IOSTBNB |   IOST/BNB |   IOST |     BNB |     True |      True |\n",
      "|   IOTABNB |   IOTA/BNB |   IOTA |     BNB |     True |      True |\n",
      "|     IQBNB |     IQ/BNB |     IQ |     BNB |     True |      True |\n",
      "|    JSTBNB |    JST/BNB |    JST |     BNB |     True |      True |\n",
      "|   KAVABNB |   KAVA/BNB |   KAVA |     BNB |     True |      True |\n",
      "|   KP3RBNB |   KP3R/BNB |   KP3R |     BNB |     True |      True |\n",
      "|    KSMBNB |    KSM/BNB |    KSM |     BNB |     True |      True |\n",
      "|    LTCBNB |    LTC/BNB |    LTC |     BNB |     True |      True |\n",
      "|   LUNABNB |   LUNA/BNB |   LUNA |     BNB |     True |      True |\n",
      "|  MATICBNB |  MATIC/BNB |  MATIC |     BNB |     True |      True |\n",
      "|    MBLBNB |    MBL/BNB |    MBL |     BNB |     True |      True |\n",
      "|    MFTBNB |    MFT/BNB |    MFT |     BNB |     True |      True |\n",
      "|   MITHBNB |   MITH/BNB |   MITH |     BNB |     True |      True |\n",
      "|    MKRBNB |    MKR/BNB |    MKR |     BNB |     True |      True |\n",
      "|   NEARBNB |   NEAR/BNB |   NEAR |     BNB |     True |      True |\n",
      "|    NEOBNB |    NEO/BNB |    NEO |     BNB |     True |      True |\n",
      "|    NMRBNB |    NMR/BNB |    NMR |     BNB |     True |      True |\n",
      "|  OCEANBNB |  OCEAN/BNB |  OCEAN |     BNB |     True |      True |\n",
      "|    OGNBNB |    OGN/BNB |    OGN |     BNB |     True |      True |\n",
      "|    ONEBNB |    ONE/BNB |    ONE |     BNB |     True |      True |\n",
      "|    ONTBNB |    ONT/BNB |    ONT |     BNB |     True |      True |\n",
      "|   PAXGBNB |   PAXG/BNB |   PAXG |     BNB |     True |      True |\n",
      "|   PERLBNB |   PERL/BNB |   PERL |     BNB |     True |      True |\n",
      "|   PROMBNB |   PROM/BNB |   PROM |     BNB |     True |      True |\n",
      "|    RSRBNB |    RSR/BNB |    RSR |     BNB |     True |      True |\n",
      "|   RUNEBNB |   RUNE/BNB |   RUNE |     BNB |     True |      True |\n",
      "|    RVNBNB |    RVN/BNB |    RVN |     BNB |     True |      True |\n",
      "|   SANDBNB |   SAND/BNB |   SAND |     BNB |     True |      True |\n",
      "|     SCBNB |     SC/BNB |     SC |     BNB |     True |      True |\n",
      "|    SNXBNB |    SNX/BNB |    SNX |     BNB |     True |      True |\n",
      "|    SOLBNB |    SOL/BNB |    SOL |     BNB |     True |      True |\n",
      "| SPARTABNB | SPARTA/BNB | SPARTA |     BNB |     True |      True |\n",
      "|    SRMBNB |    SRM/BNB |    SRM |     BNB |     True |      True |\n",
      "|   STMXBNB |   STMX/BNB |   STMX |     BNB |     True |      True |\n",
      "|    STXBNB |    STX/BNB |    STX |     BNB |     True |      True |\n",
      "|  SUSHIBNB |  SUSHI/BNB |  SUSHI |     BNB |     True |      True |\n",
      "|   SWRVBNB |   SWRV/BNB |   SWRV |     BNB |     True |      True |\n",
      "|    SXPBNB |    SXP/BNB |    SXP |     BNB |     True |      True |\n",
      "|  THETABNB |  THETA/BNB |  THETA |     BNB |     True |      True |\n",
      "|   TROYBNB |   TROY/BNB |   TROY |     BNB |     True |      True |\n",
      "|    TRXBNB |    TRX/BNB |    TRX |     BNB |     True |      True |\n",
      "|   UNFIBNB |   UNFI/BNB |   UNFI |     BNB |     True |      True |\n",
      "|    UNIBNB |    UNI/BNB |    UNI |     BNB |     True |      True |\n",
      "|    VETBNB |    VET/BNB |    VET |     BNB |     True |      True |\n",
      "|   VTHOBNB |   VTHO/BNB |   VTHO |     BNB |     True |      True |\n",
      "|   WABIBNB |   WABI/BNB |   WABI |     BNB |     True |      True |\n",
      "|    WANBNB |    WAN/BNB |    WAN |     BNB |     True |      True |\n",
      "|  WAVESBNB |  WAVES/BNB |  WAVES |     BNB |     True |      True |\n",
      "|    WINBNB |    WIN/BNB |    WIN |     BNB |     True |      True |\n",
      "|   WINGBNB |   WING/BNB |   WING |     BNB |     True |      True |\n",
      "|   WNXMBNB |   WNXM/BNB |   WNXM |     BNB |     True |      True |\n",
      "|    WRXBNB |    WRX/BNB |    WRX |     BNB |     True |      True |\n",
      "|    WTCBNB |    WTC/BNB |    WTC |     BNB |     True |      True |\n",
      "|    XLMBNB |    XLM/BNB |    XLM |     BNB |     True |      True |\n",
      "|    XMRBNB |    XMR/BNB |    XMR |     BNB |     True |      True |\n",
      "|    XRPBNB |    XRP/BNB |    XRP |     BNB |     True |      True |\n",
      "|    XTZBNB |    XTZ/BNB |    XTZ |     BNB |     True |      True |\n",
      "|    XVSBNB |    XVS/BNB |    XVS |     BNB |     True |      True |\n",
      "|    YFIBNB |    YFI/BNB |    YFI |     BNB |     True |      True |\n",
      "|   YFIIBNB |   YFII/BNB |   YFII |     BNB |     True |      True |\n",
      "|    ZECBNB |    ZEC/BNB |    ZEC |     BNB |     True |      True |\n",
      "|    ZENBNB |    ZEN/BNB |    ZEN |     BNB |     True |      True |\n",
      "|    ZILBNB |    ZIL/BNB |    ZIL |     BNB |     True |      True |\n",
      "+-----------+------------+--------+---------+----------+-----------+\n"
     ]
    }
   ],
   "source": [
    "from finrl.commands import start_download_cryptodata, start_download_stockdata, start_list_markets\n",
    "\n",
    "#ARGS_LIST_PAIRS = [\"exchange\", \"print_list\", \"list_pairs_print_json\", \"print_one_column\",\n",
    "#                   \"print_csv\", \"base_currencies\", \"quote_currencies\", \"list_pairs_all\"]\n",
    "\n",
    "ARGS_LIST_PAIRS = {\"exchange\":config[\"exchange\"][\"name\"], \"quote_currencies\":\"BNB\"}\n",
    "\n",
    "x = start_list_markets(ARGS_LIST_PAIRS)"
   ]
  },
  {
   "cell_type": "code",
   "execution_count": 11,
   "metadata": {
    "colab": {
     "base_uri": "https://localhost:8080/"
    },
    "id": "6LyiTwxBeQam",
    "outputId": "2b54c059-515e-44bc-ef45-3dba097ddad8"
   },
   "outputs": [
    {
     "name": "stdout",
     "output_type": "stream",
     "text": [
      "['HOT/BNB', 'WIN/BNB', 'BTT/BNB', 'MBL/BNB', 'VET/BNB', 'RSR/BNB', 'RVN/BNB', 'JST/BNB', 'DGB/BNB', 'VTHO/BNB', 'COS/BNB', 'BLZ/BNB', 'ONE/BNB', 'CHZ/BNB', 'FTM/BNB', 'COTI/BNB', 'CHR/BNB', 'TRX/BNB', 'BNBDOWN/USDT', 'XLM/BNB']\n",
      "['HOT/BNB', 'WIN/BNB', 'BTT/BNB', 'MBL/BNB', 'VET/BNB', 'RSR/BNB', 'RVN/BNB', 'JST/BNB', 'DGB/BNB', 'VTHO/BNB', 'COS/BNB', 'BLZ/BNB', 'ONE/BNB', 'CHZ/BNB', 'FTM/BNB', 'COTI/BNB', 'CHR/BNB', 'TRX/BNB', 'BNBDOWN/USDT', 'XLM/BNB']\n"
     ]
    }
   ],
   "source": [
    "from finrl.tools.coin_search import *\n",
    "import json\n",
    "#Search top Selling Coins based on Volume\n",
    "coins = coinSearch(\"BNB\", top=20)\n",
    "print(coins)\n",
    "#Add them to config file Pair_whitelist\n",
    "coins_to_json(\"../config.json\", coins)\n",
    "\n",
    "# reintialize config\n",
    "config = Configuration.from_files([\"../config.json\"])\n",
    "\n",
    "#make sure the pairs are equal...\n",
    "print(config[\"exchange\"][\"pair_whitelist\"])"
   ]
  },
  {
   "cell_type": "code",
   "execution_count": 12,
   "metadata": {
    "id": "6HDb_jaLVkZ7"
   },
   "outputs": [],
   "source": [
    "ARGS_DOWNLOAD_DATA = {'config': ['../config.json'], 'datadir': None, \n",
    "                      'user_data_dir': None, 'pairs': None, 'pairs_file': None, \n",
    "                      'days': 365, 'timerange': None, \n",
    "                      'download_trades': False, 'exchange': 'binance', \n",
    "                      'timeframes': ['4h'], 'erase': False, \n",
    "                      'dataformat_ohlcv': None, 'dataformat_trades': None}\n",
    "\n",
    "# ######## downloads data to our local data repository as dictated by our config, or we could overide it using 'datadir'\n",
    "start_download_cryptodata(ARGS_DOWNLOAD_DATA)"
   ]
  },
  {
   "cell_type": "code",
   "execution_count": 13,
   "metadata": {
    "id": "BRSgP8Ohfw4J"
   },
   "outputs": [],
   "source": [
    "from finrl.data.fetchdata import FetchData\n",
    "import pandas as pd\n",
    "from finrl.config import TimeRange"
   ]
  },
  {
   "cell_type": "code",
   "execution_count": 14,
   "metadata": {
    "colab": {
     "base_uri": "https://localhost:8080/"
    },
    "id": "j_YbCR9_aYiY",
    "outputId": "ad70bd3c-8008-437e-f740-5f1497f3ecb5"
   },
   "outputs": [
    {
     "name": "stdout",
     "output_type": "stream",
     "text": [
      "coin HOT_BNB not available\n",
      "coin WIN_BNB not available\n",
      "coin BTT_BNB not available\n",
      "coin MBL_BNB not available\n",
      "coin VET_BNB not available\n",
      "coin RSR_BNB not available\n",
      "coin RVN_BNB not available\n",
      "coin JST_BNB not available\n",
      "coin DGB_BNB not available\n",
      "coin VTHO_BNB not available\n",
      "coin COS_BNB not available\n",
      "coin BLZ_BNB not available\n",
      "coin ONE_BNB not available\n",
      "coin CHZ_BNB not available\n",
      "coin FTM_BNB not available\n",
      "coin COTI_BNB not available\n",
      "coin CHR_BNB not available\n",
      "coin TRX_BNB not available\n",
      "coin BNBDOWN_USDT not available\n",
      "coin XLM_BNB not available\n",
      "(0, 0)\n",
      "<bound method NDFrame.head of Empty DataFrame\n",
      "Columns: []\n",
      "Index: []>\n"
     ]
    }
   ],
   "source": [
    "df = FetchData(config).fetch_data_crypto()\n",
    "print(df.head)"
   ]
  },
  {
   "cell_type": "code",
   "execution_count": 15,
   "metadata": {
    "colab": {
     "base_uri": "https://localhost:8080/",
     "height": 206
    },
    "id": "KGBpYLlBwPN1",
    "outputId": "46dc656b-14ae-460c-b239-dd6cb3ccc34c"
   },
   "outputs": [
    {
     "data": {
      "text/html": [
       "<div>\n",
       "<style scoped>\n",
       "    .dataframe tbody tr th:only-of-type {\n",
       "        vertical-align: middle;\n",
       "    }\n",
       "\n",
       "    .dataframe tbody tr th {\n",
       "        vertical-align: top;\n",
       "    }\n",
       "\n",
       "    .dataframe thead th {\n",
       "        text-align: right;\n",
       "    }\n",
       "</style>\n",
       "<table border=\"1\" class=\"dataframe\">\n",
       "  <thead>\n",
       "    <tr style=\"text-align: right;\">\n",
       "      <th></th>\n",
       "    </tr>\n",
       "  </thead>\n",
       "  <tbody>\n",
       "  </tbody>\n",
       "</table>\n",
       "</div>"
      ],
      "text/plain": [
       "Empty DataFrame\n",
       "Columns: []\n",
       "Index: []"
      ]
     },
     "execution_count": 15,
     "metadata": {},
     "output_type": "execute_result"
    }
   ],
   "source": [
    "df.head()"
   ]
  },
  {
   "cell_type": "code",
   "execution_count": 16,
   "metadata": {
    "colab": {
     "base_uri": "https://localhost:8080/"
    },
    "id": "TUn5EJuqhCaW",
    "outputId": "bcac6d59-6adc-4c2a-e0ad-5b25473329f7"
   },
   "outputs": [
    {
     "ename": "KeyError",
     "evalue": "'date'",
     "output_type": "error",
     "traceback": [
      "\u001b[0;31m---------------------------------------------------------------------------\u001b[0m",
      "\u001b[0;31mKeyError\u001b[0m                                  Traceback (most recent call last)",
      "\u001b[0;32m<ipython-input-16-b02c7d43f4ac>\u001b[0m in \u001b[0;36m<module>\u001b[0;34m\u001b[0m\n\u001b[0;32m----> 1\u001b[0;31m \u001b[0mdf\u001b[0m\u001b[0;34m.\u001b[0m\u001b[0msort_values\u001b[0m\u001b[0;34m(\u001b[0m\u001b[0;34m[\u001b[0m\u001b[0;34m'date'\u001b[0m\u001b[0;34m,\u001b[0m\u001b[0;34m'tic'\u001b[0m\u001b[0;34m]\u001b[0m\u001b[0;34m,\u001b[0m\u001b[0mignore_index\u001b[0m\u001b[0;34m=\u001b[0m\u001b[0;32mTrue\u001b[0m\u001b[0;34m)\u001b[0m\u001b[0;34m.\u001b[0m\u001b[0mhead\u001b[0m\u001b[0;34m(\u001b[0m\u001b[0;34m)\u001b[0m\u001b[0;34m\u001b[0m\u001b[0;34m\u001b[0m\u001b[0m\n\u001b[0m\u001b[1;32m      2\u001b[0m \u001b[0;34m\u001b[0m\u001b[0m\n\u001b[1;32m      3\u001b[0m fe = FeatureEngineer(\n\u001b[1;32m      4\u001b[0m                     \u001b[0muse_technical_indicator\u001b[0m\u001b[0;34m=\u001b[0m\u001b[0;32mTrue\u001b[0m\u001b[0;34m,\u001b[0m\u001b[0;34m\u001b[0m\u001b[0;34m\u001b[0m\u001b[0m\n\u001b[1;32m      5\u001b[0m                     \u001b[0mtech_indicator_list\u001b[0m \u001b[0;34m=\u001b[0m \u001b[0mconfig\u001b[0m\u001b[0;34m[\u001b[0m\u001b[0;34m\"TECHNICAL_INDICATORS_LIST\"\u001b[0m\u001b[0;34m]\u001b[0m\u001b[0;34m,\u001b[0m\u001b[0;34m\u001b[0m\u001b[0;34m\u001b[0m\u001b[0m\n",
      "\u001b[0;32m/opt/conda/lib/python3.6/site-packages/pandas/core/frame.py\u001b[0m in \u001b[0;36msort_values\u001b[0;34m(self, by, axis, ascending, inplace, kind, na_position, ignore_index, key)\u001b[0m\n\u001b[1;32m   5282\u001b[0m             \u001b[0;32mfrom\u001b[0m \u001b[0mpandas\u001b[0m\u001b[0;34m.\u001b[0m\u001b[0mcore\u001b[0m\u001b[0;34m.\u001b[0m\u001b[0msorting\u001b[0m \u001b[0;32mimport\u001b[0m \u001b[0mlexsort_indexer\u001b[0m\u001b[0;34m\u001b[0m\u001b[0;34m\u001b[0m\u001b[0m\n\u001b[1;32m   5283\u001b[0m \u001b[0;34m\u001b[0m\u001b[0m\n\u001b[0;32m-> 5284\u001b[0;31m             \u001b[0mkeys\u001b[0m \u001b[0;34m=\u001b[0m \u001b[0;34m[\u001b[0m\u001b[0mself\u001b[0m\u001b[0;34m.\u001b[0m\u001b[0m_get_label_or_level_values\u001b[0m\u001b[0;34m(\u001b[0m\u001b[0mx\u001b[0m\u001b[0;34m,\u001b[0m \u001b[0maxis\u001b[0m\u001b[0;34m=\u001b[0m\u001b[0maxis\u001b[0m\u001b[0;34m)\u001b[0m \u001b[0;32mfor\u001b[0m \u001b[0mx\u001b[0m \u001b[0;32min\u001b[0m \u001b[0mby\u001b[0m\u001b[0;34m]\u001b[0m\u001b[0;34m\u001b[0m\u001b[0;34m\u001b[0m\u001b[0m\n\u001b[0m\u001b[1;32m   5285\u001b[0m \u001b[0;34m\u001b[0m\u001b[0m\n\u001b[1;32m   5286\u001b[0m             \u001b[0;31m# need to rewrap columns in Series to apply key function\u001b[0m\u001b[0;34m\u001b[0m\u001b[0;34m\u001b[0m\u001b[0;34m\u001b[0m\u001b[0m\n",
      "\u001b[0;32m/opt/conda/lib/python3.6/site-packages/pandas/core/frame.py\u001b[0m in \u001b[0;36m<listcomp>\u001b[0;34m(.0)\u001b[0m\n\u001b[1;32m   5282\u001b[0m             \u001b[0;32mfrom\u001b[0m \u001b[0mpandas\u001b[0m\u001b[0;34m.\u001b[0m\u001b[0mcore\u001b[0m\u001b[0;34m.\u001b[0m\u001b[0msorting\u001b[0m \u001b[0;32mimport\u001b[0m \u001b[0mlexsort_indexer\u001b[0m\u001b[0;34m\u001b[0m\u001b[0;34m\u001b[0m\u001b[0m\n\u001b[1;32m   5283\u001b[0m \u001b[0;34m\u001b[0m\u001b[0m\n\u001b[0;32m-> 5284\u001b[0;31m             \u001b[0mkeys\u001b[0m \u001b[0;34m=\u001b[0m \u001b[0;34m[\u001b[0m\u001b[0mself\u001b[0m\u001b[0;34m.\u001b[0m\u001b[0m_get_label_or_level_values\u001b[0m\u001b[0;34m(\u001b[0m\u001b[0mx\u001b[0m\u001b[0;34m,\u001b[0m \u001b[0maxis\u001b[0m\u001b[0;34m=\u001b[0m\u001b[0maxis\u001b[0m\u001b[0;34m)\u001b[0m \u001b[0;32mfor\u001b[0m \u001b[0mx\u001b[0m \u001b[0;32min\u001b[0m \u001b[0mby\u001b[0m\u001b[0;34m]\u001b[0m\u001b[0;34m\u001b[0m\u001b[0;34m\u001b[0m\u001b[0m\n\u001b[0m\u001b[1;32m   5285\u001b[0m \u001b[0;34m\u001b[0m\u001b[0m\n\u001b[1;32m   5286\u001b[0m             \u001b[0;31m# need to rewrap columns in Series to apply key function\u001b[0m\u001b[0;34m\u001b[0m\u001b[0;34m\u001b[0m\u001b[0;34m\u001b[0m\u001b[0m\n",
      "\u001b[0;32m/opt/conda/lib/python3.6/site-packages/pandas/core/generic.py\u001b[0m in \u001b[0;36m_get_label_or_level_values\u001b[0;34m(self, key, axis)\u001b[0m\n\u001b[1;32m   1561\u001b[0m             \u001b[0mvalues\u001b[0m \u001b[0;34m=\u001b[0m \u001b[0mself\u001b[0m\u001b[0;34m.\u001b[0m\u001b[0maxes\u001b[0m\u001b[0;34m[\u001b[0m\u001b[0maxis\u001b[0m\u001b[0;34m]\u001b[0m\u001b[0;34m.\u001b[0m\u001b[0mget_level_values\u001b[0m\u001b[0;34m(\u001b[0m\u001b[0mkey\u001b[0m\u001b[0;34m)\u001b[0m\u001b[0;34m.\u001b[0m\u001b[0m_values\u001b[0m\u001b[0;34m\u001b[0m\u001b[0;34m\u001b[0m\u001b[0m\n\u001b[1;32m   1562\u001b[0m         \u001b[0;32melse\u001b[0m\u001b[0;34m:\u001b[0m\u001b[0;34m\u001b[0m\u001b[0;34m\u001b[0m\u001b[0m\n\u001b[0;32m-> 1563\u001b[0;31m             \u001b[0;32mraise\u001b[0m \u001b[0mKeyError\u001b[0m\u001b[0;34m(\u001b[0m\u001b[0mkey\u001b[0m\u001b[0;34m)\u001b[0m\u001b[0;34m\u001b[0m\u001b[0;34m\u001b[0m\u001b[0m\n\u001b[0m\u001b[1;32m   1564\u001b[0m \u001b[0;34m\u001b[0m\u001b[0m\n\u001b[1;32m   1565\u001b[0m         \u001b[0;31m# Check for duplicates\u001b[0m\u001b[0;34m\u001b[0m\u001b[0;34m\u001b[0m\u001b[0;34m\u001b[0m\u001b[0m\n",
      "\u001b[0;31mKeyError\u001b[0m: 'date'"
     ]
    }
   ],
   "source": [
    "df.sort_values(['date','tic'],ignore_index=True).head()\n",
    "\n",
    "fe = FeatureEngineer(\n",
    "                    use_technical_indicator=True,\n",
    "                    tech_indicator_list = config[\"TECHNICAL_INDICATORS_LIST\"],\n",
    "                    use_turbulence=False,\n",
    "                    user_defined_feature = False)\n",
    "\n",
    "processed = fe.preprocess_data(df)\n",
    "processed.columns"
   ]
  },
  {
   "cell_type": "code",
   "execution_count": null,
   "metadata": {
    "colab": {
     "base_uri": "https://localhost:8080/"
    },
    "id": "ztp-RmbQilsM",
    "outputId": "cd8de2d5-29a0-4ae4-aa80-10141eec6c99"
   },
   "outputs": [],
   "source": [
    "print(processed.head())\n",
    "processed.shape"
   ]
  },
  {
   "cell_type": "code",
   "execution_count": null,
   "metadata": {
    "colab": {
     "base_uri": "https://localhost:8080/"
    },
    "id": "tDt2xirSfhmv",
    "outputId": "4f95d0d6-60ad-4d49-cc73-b58d140f7e9b"
   },
   "outputs": [],
   "source": [
    "print(processed.tail())\n",
    "processed.shape"
   ]
  },
  {
   "cell_type": "code",
   "execution_count": null,
   "metadata": {
    "colab": {
     "base_uri": "https://localhost:8080/"
    },
    "id": "CyLPP3t7i3gU",
    "outputId": "e2985149-ad59-4b56-d22e-72e9a3c39beb"
   },
   "outputs": [],
   "source": [
    "list_ticker = processed[\"tic\"].unique().tolist()\n",
    "list_date = list(pd.date_range(processed['date'].min(),processed['date'].max(), freq=\"4h\").astype(str))\n",
    "combination = list(itertools.product(list_date,list_ticker))\n",
    "list_date"
   ]
  },
  {
   "cell_type": "code",
   "execution_count": null,
   "metadata": {
    "colab": {
     "base_uri": "https://localhost:8080/",
     "height": 557
    },
    "id": "Tqf8X7rSjAiA",
    "outputId": "430fe0de-1737-403c-f41e-44ab1258064d"
   },
   "outputs": [],
   "source": [
    "processed[\"date\"] = processed[\"date\"].astype(str)\n",
    "processed_full = pd.DataFrame(combination,columns=[\"date\",\"tic\"]).merge(processed,on=[\"date\",\"tic\"],how=\"left\")\n",
    "processed_full = processed_full[processed_full['date'].isin(processed['date'])]\n",
    "processed_full = processed_full.fillna(0)\n",
    "processed_full.sort_values(['date','tic'],ignore_index=True).head(10)"
   ]
  },
  {
   "cell_type": "code",
   "execution_count": null,
   "metadata": {
    "colab": {
     "base_uri": "https://localhost:8080/",
     "height": 313
    },
    "id": "e2zDnAijjDmw",
    "outputId": "76dccf28-4714-4351-b20c-f7864386d060"
   },
   "outputs": [],
   "source": [
    "processed_full.head(5)"
   ]
  },
  {
   "cell_type": "code",
   "execution_count": null,
   "metadata": {
    "colab": {
     "base_uri": "https://localhost:8080/",
     "height": 313
    },
    "id": "EGmzTrtfjF5_",
    "outputId": "8c257417-ee93-440e-89e6-03e5b4836531"
   },
   "outputs": [],
   "source": [
    "processed_full.tail()"
   ]
  },
  {
   "cell_type": "code",
   "execution_count": null,
   "metadata": {
    "colab": {
     "base_uri": "https://localhost:8080/"
    },
    "id": "Q5Xg1GTz6-yW",
    "outputId": "0b104ca2-3fde-4d5d-f19c-04413201efe8"
   },
   "outputs": [],
   "source": [
    "#### DATA SPLIT TRAIN TRADE RATIO 70/30\n",
    "\n",
    "trade_len = int(len(processed_full)*0.7)\n",
    "train_len = int(len(processed_full)*0.3+1)\n",
    "total = trade_len+train_len\n",
    "print(f'trade length:{trade_len}, train length: {train}, for total len of {total} of {len(processed_full)}')"
   ]
  },
  {
   "cell_type": "code",
   "execution_count": null,
   "metadata": {
    "colab": {
     "base_uri": "https://localhost:8080/"
    },
    "id": "u5cgLBBO8C6_",
    "outputId": "eae93679-a625-46d3-b86c-3e47beeefdfd"
   },
   "outputs": [],
   "source": [
    "processed_full.date.factorize()[0]"
   ]
  },
  {
   "cell_type": "code",
   "execution_count": null,
   "metadata": {
    "colab": {
     "base_uri": "https://localhost:8080/"
    },
    "id": "rYIlHNSoJQXX",
    "outputId": "d0431d9e-7da7-40a6-f522-72ebfe1d3b62"
   },
   "outputs": [],
   "source": [
    "train = data_split(processed_full, processed_full.date.min(),processed_full.date.loc[trade_len])\n",
    "trade = data_split(processed_full, processed_full.date.loc[trade_len],processed_full.date.max())\n",
    "print(len(train))\n",
    "print(len(trade))"
   ]
  },
  {
   "cell_type": "code",
   "execution_count": null,
   "metadata": {
    "id": "GPGqBNwKkT6i"
   },
   "outputs": [],
   "source": [
    "# processed_imputed = processed_full[processed_full.columns[processed_full.isna().any().tolist()]]\n",
    "\n",
    "# processed_imputed = processed_imputed.replace([np.inf, -np.inf], np.nan)"
   ]
  },
  {
   "cell_type": "code",
   "execution_count": null,
   "metadata": {
    "id": "STkGrzDl0bdx"
   },
   "outputs": [],
   "source": [
    "# from sklearn.impute import KNNImputer\n",
    "\n",
    "# imputer = KNNImputer(n_neighbors=1)\n",
    "# imputed = imputer.fit_transform(processed_imputed)\n",
    "\n",
    "# df_knn = pd.DataFrame(imputed, columns=processed_imputed.columns.tolist())\n",
    "\n",
    "# for i in processed_imputed.columns.tolist():\n",
    "#     processed_imputed[i] = df_knn[i]"
   ]
  },
  {
   "cell_type": "code",
   "execution_count": null,
   "metadata": {
    "colab": {
     "base_uri": "https://localhost:8080/"
    },
    "id": "jiFq3gXR6KFO",
    "outputId": "db3a7959-ebb7-4bf6-a597-6ed5be720aa5"
   },
   "outputs": [],
   "source": [
    "# print(processed_imputed.isna().any())"
   ]
  },
  {
   "cell_type": "code",
   "execution_count": null,
   "metadata": {
    "colab": {
     "base_uri": "https://localhost:8080/",
     "height": 226
    },
    "id": "0VEDSZuF61if",
    "outputId": "246ff6ca-e331-4369-f49d-f5a39ec1a51e"
   },
   "outputs": [],
   "source": [
    "# processed_imputed.head()"
   ]
  },
  {
   "cell_type": "code",
   "execution_count": null,
   "metadata": {
    "colab": {
     "base_uri": "https://localhost:8080/",
     "height": 226
    },
    "id": "SM9gFk8Z638E",
    "outputId": "691edbfe-5b13-44ca-9888-113e81d4bfcf"
   },
   "outputs": [],
   "source": [
    "# processed_imputed.tail()"
   ]
  },
  {
   "cell_type": "code",
   "execution_count": null,
   "metadata": {
    "colab": {
     "base_uri": "https://localhost:8080/"
    },
    "id": "bWk2rpWKii5K",
    "outputId": "54d9b1ab-4784-4c89-8e06-ab4adf034bd0"
   },
   "outputs": [],
   "source": [
    "# from sklearn.model_selection import train_test_split \n",
    "# X = processed_imputed.astype(float).to_numpy()\n",
    "# train, trade = train_test_split(X, test_size=0.33, shuffle=False)\n",
    "# train = pd.DataFrame(train)\n",
    "# trade = pd.DataFrame(trade)\n",
    "# print(train.shape)\n",
    "# print(trade.shape)\n",
    "# # train = data_split(processed_full, '2018-05-16','2020-05-16')\n",
    "# # trade = data_split(processed_full, '2020-05-17','2021-02-10')"
   ]
  },
  {
   "cell_type": "code",
   "execution_count": null,
   "metadata": {
    "colab": {
     "base_uri": "https://localhost:8080/"
    },
    "id": "ORu4o8-yDzgp",
    "outputId": "ec36442a-a0b5-4e0a-f055-d6ec5f60d48c"
   },
   "outputs": [],
   "source": [
    "# processed_full.date.head()"
   ]
  },
  {
   "cell_type": "code",
   "execution_count": null,
   "metadata": {
    "id": "Nwe8UeDXAtmT"
   },
   "outputs": [],
   "source": [
    "# train[[\"date\",\"tic\"]] = processed_full[[\"date\",\"tic\"]].iloc[:len(train),:]\n",
    "# train.columns = processed_full.columns\n",
    "# train = train.sort_values([\"date\", \"tic\"], ignore_index=True)\n",
    "# train.index = train.date.factorize()[0]\n",
    "# trade[[\"date\",\"tic\"]] = processed_full[[\"date\",\"tic\"]].iloc[:len(trade),:]\n",
    "# trade.columns = processed_full.columns\n",
    "# trade = trade.sort_values([\"date\", \"tic\"], ignore_index=True)\n",
    "# trade.index = trade.date.factorize()[0]"
   ]
  },
  {
   "cell_type": "code",
   "execution_count": null,
   "metadata": {
    "colab": {
     "base_uri": "https://localhost:8080/",
     "height": 313
    },
    "id": "M0ULGxgc__uk",
    "outputId": "6d4522ee-768e-482c-f87a-6e08f5abcead"
   },
   "outputs": [],
   "source": [
    "train.head()"
   ]
  },
  {
   "cell_type": "code",
   "execution_count": null,
   "metadata": {
    "colab": {
     "base_uri": "https://localhost:8080/",
     "height": 313
    },
    "id": "NZmYW7__ABby",
    "outputId": "81da5b04-95b9-4f7d-e0a3-df4f5d234af2"
   },
   "outputs": [],
   "source": [
    "trade.head()"
   ]
  },
  {
   "cell_type": "code",
   "execution_count": null,
   "metadata": {
    "colab": {
     "base_uri": "https://localhost:8080/"
    },
    "id": "xMwZJEmnB_4D",
    "outputId": "dda7830a-754d-4fbd-c44a-7e2975d1a562"
   },
   "outputs": [],
   "source": [
    "train.info()"
   ]
  },
  {
   "cell_type": "code",
   "execution_count": null,
   "metadata": {
    "colab": {
     "base_uri": "https://localhost:8080/"
    },
    "id": "8ceHuwSUC6xW",
    "outputId": "2aee7049-e93b-4502-ee0f-fead98fe7163"
   },
   "outputs": [],
   "source": [
    "len(train.tic.unique())"
   ]
  },
  {
   "cell_type": "code",
   "execution_count": null,
   "metadata": {
    "colab": {
     "base_uri": "https://localhost:8080/"
    },
    "id": "nKWnrUetC_YE",
    "outputId": "812add7d-5d6e-474b-bd45-50b906821cfb"
   },
   "outputs": [],
   "source": [
    "config[\"TECHNICAL_INDICATORS_LIST\"]"
   ]
  },
  {
   "cell_type": "code",
   "execution_count": null,
   "metadata": {
    "colab": {
     "base_uri": "https://localhost:8080/"
    },
    "id": "Sc4Yix3G0U2g",
    "outputId": "90d1bc6e-272e-44f6-92f9-37260cd8d02b"
   },
   "outputs": [],
   "source": [
    "stock_dimension = len(train.tic.unique())\n",
    "state_space = 1 + 2*stock_dimension + len(config[\"TECHNICAL_INDICATORS_LIST\"])*stock_dimension\n",
    "print(f\"Stock Dimension: {stock_dimension}, State Space: {state_space}\")\n",
    "\n",
    "env_kwargs = {\n",
    "    \"hmax\": 100, \n",
    "    \"initial_amount\": 1000000, \n",
    "    \"buy_cost_pct\": 0.001,\n",
    "    \"sell_cost_pct\": 0.001,\n",
    "    \"state_space\": state_space, \n",
    "    \"stock_dim\": stock_dimension, \n",
    "    \"tech_indicator_list\": config[\"TECHNICAL_INDICATORS_LIST\"], \n",
    "    \"action_space\": stock_dimension, \n",
    "    \"reward_scaling\": 1e-4\n",
    "    \n",
    "}\n",
    "e_train_gym = StockTradingEnv(df = train, **env_kwargs)"
   ]
  },
  {
   "cell_type": "code",
   "execution_count": null,
   "metadata": {
    "colab": {
     "base_uri": "https://localhost:8080/"
    },
    "id": "yRzxB84E_pR0",
    "outputId": "1340b797-2d1a-4fe2-b6ec-887df08b0c91"
   },
   "outputs": [],
   "source": [
    "env_train, _ = e_train_gym.get_sb_env()\n",
    "print(type(env_train))"
   ]
  },
  {
   "cell_type": "code",
   "execution_count": null,
   "metadata": {
    "colab": {
     "base_uri": "https://localhost:8080/"
    },
    "id": "8V-ppne7Cv2T",
    "outputId": "d2531919-ee1f-418e-fcef-c44f4a015a01"
   },
   "outputs": [],
   "source": [
    "agent = DRLAgent(env = env_train)\n",
    "PPO_PARAMS = {\n",
    "    \"n_steps\": 2048,\n",
    "    \"ent_coef\": 0.01,\n",
    "    \"learning_rate\": 0.00025,\n",
    "    \"batch_size\": 128,\n",
    "}\n",
    "model_ppo = agent.get_model(\"ppo\",model_kwargs = PPO_PARAMS)\n"
   ]
  },
  {
   "cell_type": "code",
   "execution_count": null,
   "metadata": {
    "colab": {
     "base_uri": "https://localhost:8080/"
    },
    "id": "2m48yLBrJ3in",
    "outputId": "3d1f9b11-228a-452f-95e7-f328d61f8447"
   },
   "outputs": [],
   "source": [
    "trained_ppo = agent.train_model(model=model_ppo, \n",
    "                             tb_log_name='ppo',\n",
    "                             total_timesteps=100000)"
   ]
  },
  {
   "cell_type": "code",
   "execution_count": null,
   "metadata": {
    "colab": {
     "base_uri": "https://localhost:8080/"
    },
    "id": "QjrKBLwEJ3Ip",
    "outputId": "29d79494-45a0-46f5-bddd-4bd9bfaf53c9"
   },
   "outputs": [],
   "source": [
    "e_trade_gym = StockTradingEnv(df = trade, **env_kwargs)\n",
    "# env_trade, obs_trade = e_trade_gym.get_sb_env()\n",
    "\n",
    "df_account_value, df_actions = DRLAgent.DRL_prediction(\n",
    "    model=model_ppo, \n",
    "    environment = e_trade_gym)"
   ]
  },
  {
   "cell_type": "code",
   "execution_count": null,
   "metadata": {
    "colab": {
     "base_uri": "https://localhost:8080/"
    },
    "id": "gtl4aN1_KH62",
    "outputId": "c8fc3283-2fa1-4e2f-c0dc-ba7416586051"
   },
   "outputs": [],
   "source": [
    "df_account_value.shape"
   ]
  },
  {
   "cell_type": "code",
   "execution_count": null,
   "metadata": {
    "colab": {
     "base_uri": "https://localhost:8080/",
     "height": 206
    },
    "id": "aQ8dU9GfKJ9q",
    "outputId": "95cb8668-7ad8-4f83-9ace-7a1f6df8e8e9"
   },
   "outputs": [],
   "source": [
    "df_account_value.head()"
   ]
  },
  {
   "cell_type": "code",
   "execution_count": null,
   "metadata": {
    "colab": {
     "base_uri": "https://localhost:8080/",
     "height": 226
    },
    "id": "W5GysFd_KNCi",
    "outputId": "68ba8d48-7115-4ed3-90c4-493437e39ec8"
   },
   "outputs": [],
   "source": [
    "df_actions.head()"
   ]
  },
  {
   "cell_type": "code",
   "execution_count": null,
   "metadata": {
    "colab": {
     "base_uri": "https://localhost:8080/"
    },
    "id": "BlL6jdA8KPMj",
    "outputId": "b2eb1309-fc7a-4700-8366-03a5814dcd8d"
   },
   "outputs": [],
   "source": [
    "print(\"==============Get Backtest Results===========\")\n",
    "now = datetime.datetime.now().strftime('%Y%m%d-%Hh%M')\n",
    "\n",
    "perf_stats_all = backtest_stats(account_value=df_account_value)\n",
    "perf_stats_all = pd.DataFrame(perf_stats_all)\n",
    "# perf_stats_all.to_csv(\"./\"+config.RESULTS_DIR+\"/perf_stats_all_\"+now+'.csv')"
   ]
  },
  {
   "cell_type": "markdown",
   "metadata": {
    "id": "wZMIq0bgF7TO"
   },
   "source": []
  }
 ],
 "metadata": {
  "colab": {
   "collapsed_sections": [],
   "name": "FINRL FREQ MODEL",
   "provenance": []
  },
  "kernelspec": {
   "display_name": "Python 3",
   "language": "python",
   "name": "python3"
  },
  "language_info": {
   "codemirror_mode": {
    "name": "ipython",
    "version": 3
   },
   "file_extension": ".py",
   "mimetype": "text/x-python",
   "name": "python",
   "nbconvert_exporter": "python",
   "pygments_lexer": "ipython3",
   "version": "3.6.12"
  }
 },
 "nbformat": 4,
 "nbformat_minor": 4
}
